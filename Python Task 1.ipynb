{
 "cells": [
  {
   "cell_type": "markdown",
   "id": "f77badad-ef8e-4df4-ba39-d7b10c5fb923",
   "metadata": {},
   "source": [
    "# Ques 1"
   ]
  },
  {
   "cell_type": "code",
   "execution_count": 31,
   "id": "207afdc4-8f0f-472e-a0c3-9f5df1ebcd92",
   "metadata": {},
   "outputs": [],
   "source": [
    "def listToList(l1):\n",
    "    l2 = []\n",
    "    for i in l1:\n",
    "        if type(i) in [int,float]:\n",
    "            l2.append(i)\n",
    "        elif type(i) == list:\n",
    "            l2.extend(listToList(i))\n",
    "        elif type(i) == tuple:\n",
    "            l2.extend(setToList(i))\n",
    "        elif type(i) == set:\n",
    "            l2.extend(setToList(i))\n",
    "        elif type(i) == dict:\n",
    "            l2.extend(dictToList(i))\n",
    "    \n",
    "    return l2"
   ]
  },
  {
   "cell_type": "code",
   "execution_count": 32,
   "id": "6b7af553-fd08-4d2b-b6ef-dcbe1f7b04fc",
   "metadata": {},
   "outputs": [],
   "source": [
    "def tupleToList(t1):\n",
    "    l2 = []\n",
    "    for i in t1:\n",
    "        if type(i) in [int,float]:\n",
    "            l2.append(i)\n",
    "        elif type(i) == list:\n",
    "            l2.extend(listToList(i))\n",
    "        elif type(i) == tuple:\n",
    "            l2.extend(setToList(i))\n",
    "        elif type(i) == set:\n",
    "            l2.extend(setToList(i))\n",
    "        elif type(i) == dict:\n",
    "            l2.extend(dictToList(i))\n",
    "    \n",
    "    return l2"
   ]
  },
  {
   "cell_type": "code",
   "execution_count": 33,
   "id": "9f83513e-2584-4ef0-a6ec-c295ca78a21e",
   "metadata": {},
   "outputs": [],
   "source": [
    "def setToList(s1):\n",
    "    l2 = []\n",
    "    for i in s1:\n",
    "        if type(i) in [int,float]:\n",
    "            l2.append(i)\n",
    "        elif type(i) == list:\n",
    "            l2.extend(listToList(i))\n",
    "        elif type(i) == tuple:\n",
    "            l2.extend(setToList(i))\n",
    "        elif type(i) == set:\n",
    "            l2.extend(setToList(i))\n",
    "        elif type(i) == dict:\n",
    "            l2.extend(dictToList(i))\n",
    "    \n",
    "    return l2"
   ]
  },
  {
   "cell_type": "code",
   "execution_count": 19,
   "id": "ba430e22-49b0-4071-a84d-e319278a734d",
   "metadata": {},
   "outputs": [],
   "source": [
    "def dictToList(d1):\n",
    "    l1 = []\n",
    "    for i in d1.keys():\n",
    "        if type(i) in [int,float]:\n",
    "            l1.append(i)\n",
    "        if type(d1[i]) in [int,float]:\n",
    "            l1.append(d1[i])\n",
    "        elif type(d1[i]) == list:\n",
    "            l1.extend(listToList(d1[i]))\n",
    "        elif type(d1[i]) == tuple:\n",
    "            l1.extend(setToList(d1[i]))\n",
    "        elif type(d1[i]) == set:\n",
    "            l1.extend(setToList(d1[i]))\n",
    "        elif type(d1[i]) == dict:\n",
    "            l1.extend(dictToList(d1[i]))\n",
    "    \n",
    "    return l1"
   ]
  },
  {
   "cell_type": "code",
   "execution_count": 36,
   "id": "75e382f5-931d-435f-bbbb-55762d073642",
   "metadata": {},
   "outputs": [
    {
     "name": "stdout",
     "output_type": "stream",
     "text": [
      "old list is  [1, 2, 3, 4, [44, 55, 66, True], False, (34, 56, 78, 89, 34), {1, 2, 3}, {1: 34, 'key2': [55, 67, 78, 89], 4: (45, 22, 61, 34)}, [56, 'data science'], 'Machine Learning']\n",
      "\n",
      "flatten list is  [1, 2, 3, 4, 44, 55, 66, 34, 56, 78, 89, 34, 1, 2, 3, 1, 34, 55, 67, 78, 89, 4, 45, 22, 61, 34, 56]\n"
     ]
    }
   ],
   "source": [
    "l = [1,2,3,4, [44,55,66, True], False, (34,56,78,89,34), {1,2,3,3,2,1}, {1:34, \"key2\": [55, 67, 78, 89], 4: (45,\n",
    "22, 61, 34)}, [56, 'data science'], 'Machine Learning']\n",
    "ans = listToList(l)\n",
    "print('old list is ' , l , end=\"\\n\\n\")\n",
    "print('flatten list is ' , ans)"
   ]
  },
  {
   "cell_type": "markdown",
   "id": "e1e63464-c6bc-44f8-ba62-f7892923c86c",
   "metadata": {},
   "source": [
    "# Ques 2"
   ]
  },
  {
   "cell_type": "code",
   "execution_count": 9,
   "id": "5f96b82b-04ee-4c71-a478-59dd0a5c5012",
   "metadata": {},
   "outputs": [],
   "source": [
    "def encode(value):\n",
    "    '''Take a Normal string as input and return the encoded version of it'''\n",
    "    ans = \"\"\n",
    "    for i in value:\n",
    "        if i == \" \":\n",
    "            ans += \"$\"\n",
    "            # value.replace(\" \",\"$\")\n",
    "        elif ord(i) <= 122 and ord(i) >= 97:\n",
    "            a = ord(i)\n",
    "            b = 109 - a\n",
    "            c = chr(109 + b + 1)\n",
    "            ans += c\n",
    "        else :\n",
    "            ans += i\n",
    "    return ans"
   ]
  },
  {
   "cell_type": "code",
   "execution_count": 15,
   "id": "bf3a2e7e-fdda-40b8-8e7c-c6eb91ec4a96",
   "metadata": {},
   "outputs": [
    {
     "name": "stdin",
     "output_type": "stream",
     "text": [
      "Enter the string for encription I want to become a Data Scientist.\n"
     ]
    },
    {
     "name": "stdout",
     "output_type": "stream",
     "text": [
      "The encoded string of \"I want to become a Data Scientist.\" is \"r$dzmg$gl$yvxlnv$z$wzgz$hxrvmgrhg.\"\n"
     ]
    }
   ],
   "source": [
    "value = input('Enter the string for encription')\n",
    "valueLower = value.lower()\n",
    "ans = encode(valueLower)\n",
    "print('The encoded string of \"' + value + '\" is \"' + ans + '\"')"
   ]
  }
 ],
 "metadata": {
  "kernelspec": {
   "display_name": "Python 3 (ipykernel)",
   "language": "python",
   "name": "python3"
  },
  "language_info": {
   "codemirror_mode": {
    "name": "ipython",
    "version": 3
   },
   "file_extension": ".py",
   "mimetype": "text/x-python",
   "name": "python",
   "nbconvert_exporter": "python",
   "pygments_lexer": "ipython3",
   "version": "3.10.8"
  }
 },
 "nbformat": 4,
 "nbformat_minor": 5
}
